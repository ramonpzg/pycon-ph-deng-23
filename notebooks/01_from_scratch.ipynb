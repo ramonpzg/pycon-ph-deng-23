{
 "cells": [
  {
   "attachments": {},
   "cell_type": "markdown",
   "metadata": {},
   "source": [
    "# Data Orchestration From Scratch"
   ]
  },
  {
   "attachments": {},
   "cell_type": "markdown",
   "metadata": {},
   "source": [
    "TODO: A Quote"
   ]
  },
  {
   "attachments": {},
   "cell_type": "markdown",
   "metadata": {},
   "source": [
    "TODO: An Image"
   ]
  },
  {
   "attachments": {},
   "cell_type": "markdown",
   "metadata": {},
   "source": [
    "## Table of Contents\n",
    "\n",
    "1. Overview\n",
    "2. Learning Outcomes\n",
    "3. Tools\n",
    "    - The (Local) Cloud\n",
    "4. "
   ]
  },
  {
   "attachments": {},
   "cell_type": "markdown",
   "metadata": {},
   "source": [
    "## 1. Overview"
   ]
  },
  {
   "attachments": {},
   "cell_type": "markdown",
   "metadata": {},
   "source": [
    "At the bare minimum, we need storage, compute, orchestration, and versioning."
   ]
  },
  {
   "attachments": {},
   "cell_type": "markdown",
   "metadata": {},
   "source": [
    "## 2. Learning Outcomes"
   ]
  },
  {
   "attachments": {},
   "cell_type": "markdown",
   "metadata": {},
   "source": [
    "## 3. Tools"
   ]
  },
  {
   "attachments": {},
   "cell_type": "markdown",
   "metadata": {},
   "source": [
    "### 3.1 The (Local) Cloud"
   ]
  },
  {
   "attachments": {},
   "cell_type": "markdown",
   "metadata": {},
   "source": [
    "LocalStack is a tool ...\n",
    "\n",
    "\n",
    "Open up a new terminal and run\n",
    "\n",
    "```sh\n",
    "localstack start\n",
    "```\n",
    "You should be able to see the following image.\n",
    "\n",
    "![lss](../images/localstack_start.png)\n",
    "\n",
    "Now check that we have a \"Cloud\" instance running in our machines, let's start by creating a bucket in S3."
   ]
  },
  {
   "cell_type": "code",
   "execution_count": 1,
   "metadata": {},
   "outputs": [],
   "source": [
    "import boto3"
   ]
  },
  {
   "cell_type": "code",
   "execution_count": 2,
   "metadata": {},
   "outputs": [],
   "source": [
    "s3_client = boto3.client(\"s3\", endpoint_url=\"http://localhost.localstack.cloud:4566\")"
   ]
  },
  {
   "cell_type": "code",
   "execution_count": 5,
   "metadata": {},
   "outputs": [
    {
     "data": {
      "text/plain": [
       "{'ResponseMetadata': {'RequestId': 'enJkT4FyW1L9XW1WXXHP4uABvyyGlMNcMEEUGLxV0ReFWKfeLo79',\n",
       "  'HTTPStatusCode': 200,\n",
       "  'HTTPHeaders': {'content-type': 'application/xml; charset=utf-8',\n",
       "   'content-length': '162',\n",
       "   'server': 'Werkzeug/2.1.2 Python/3.10.8, hypercorn-h11',\n",
       "   'date': 'Sun, 19 Feb 2023 05:01:16 GMT, Sun, 19 Feb 2023 05:01:16 GMT',\n",
       "   'x-amzn-requestid': 'enJkT4FyW1L9XW1WXXHP4uABvyyGlMNcMEEUGLxV0ReFWKfeLo79',\n",
       "   'connection': 'close',\n",
       "   'location': '/datalake',\n",
       "   'access-control-allow-origin': '*',\n",
       "   'access-control-allow-methods': 'HEAD,GET,PUT,POST,DELETE,OPTIONS,PATCH',\n",
       "   'access-control-allow-headers': 'authorization,cache-control,content-length,content-md5,content-type,etag,location,x-amz-acl,x-amz-content-sha256,x-amz-date,x-amz-request-id,x-amz-security-token,x-amz-tagging,x-amz-target,x-amz-user-agent,x-amz-version-id,x-amzn-requestid,x-localstack-target,amz-sdk-invocation-id,amz-sdk-request',\n",
       "   'access-control-expose-headers': 'etag,x-amz-version-id',\n",
       "   'last-modified': 'Sun, 19 Feb 2023 05:01:16 GMT',\n",
       "   'x-amz-request-id': '4B7AD5537C7CDFE7',\n",
       "   'x-amz-id-2': 'MzRISOwyjmnup4B7AD5537C7CDFE77/JypPGXLh0OVFGcJaaO3KW/hRAqKOpIEEp'},\n",
       "  'RetryAttempts': 0},\n",
       " 'Location': '/datalake'}"
      ]
     },
     "execution_count": 5,
     "metadata": {},
     "output_type": "execute_result"
    }
   ],
   "source": [
    "s3_client.create_bucket(Bucket=\"datalake\")"
   ]
  },
  {
   "cell_type": "code",
   "execution_count": 7,
   "metadata": {},
   "outputs": [
    {
     "data": {
      "text/plain": [
       "[{'Name': 'datalake',\n",
       "  'CreationDate': datetime.datetime(2023, 2, 19, 5, 1, 16, tzinfo=tzutc())}]"
      ]
     },
     "execution_count": 7,
     "metadata": {},
     "output_type": "execute_result"
    }
   ],
   "source": [
    "s3_client.list_buckets()[\"Buckets\"]"
   ]
  },
  {
   "cell_type": "code",
   "execution_count": 8,
   "metadata": {},
   "outputs": [],
   "source": [
    "s3_resource = boto3.resource(\"s3\", endpoint_url=\"http://localhost.localstack.cloud:4566\")"
   ]
  },
  {
   "cell_type": "code",
   "execution_count": 9,
   "metadata": {},
   "outputs": [
    {
     "data": {
      "text/plain": [
       "s3.Bucket(name='datalake2')"
      ]
     },
     "execution_count": 9,
     "metadata": {},
     "output_type": "execute_result"
    }
   ],
   "source": [
    "s3_resource.create_bucket(Bucket=\"datalake2\")"
   ]
  },
  {
   "attachments": {},
   "cell_type": "markdown",
   "metadata": {},
   "source": [
    "Note that we did not specify a location using `CreateBucketConfiguration={'LocationConstraint': 'ap-southeast-2'}`, the the default location, according to AWS ([here](https://docs.aws.amazon.com/AmazonRDS/latest/UserGuide/Concepts.RegionsAndAvailabilityZones.html)) is US West (Oregon).\n",
    "\n",
    "It is good practice to specify a region."
   ]
  },
  {
   "cell_type": "code",
   "execution_count": 17,
   "metadata": {},
   "outputs": [
    {
     "name": "stdout",
     "output_type": "stream",
     "text": [
      "datalake\n",
      "datalake2\n"
     ]
    }
   ],
   "source": [
    "for bk in s3_resource.buckets.all():\n",
    "    print(bk.name)"
   ]
  },
  {
   "cell_type": "code",
   "execution_count": null,
   "metadata": {},
   "outputs": [],
   "source": []
  }
 ],
 "metadata": {
  "kernelspec": {
   "display_name": "phcon",
   "language": "python",
   "name": "python3"
  },
  "language_info": {
   "codemirror_mode": {
    "name": "ipython",
    "version": 3
   },
   "file_extension": ".py",
   "mimetype": "text/x-python",
   "name": "python",
   "nbconvert_exporter": "python",
   "pygments_lexer": "ipython3",
   "version": "3.10.8"
  },
  "orig_nbformat": 4,
  "vscode": {
   "interpreter": {
    "hash": "63cacdd40c79cd85c1711e197200d577d287fc0f507a43a2fac2b1fee12c0e38"
   }
  }
 },
 "nbformat": 4,
 "nbformat_minor": 2
}
